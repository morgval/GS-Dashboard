{
 "cells": [
  {
   "cell_type": "code",
   "execution_count": 2,
   "metadata": {},
   "outputs": [
    {
     "ename": "ModuleNotFoundError",
     "evalue": "No module named 'CRUD.py'; 'CRUD' is not a package",
     "output_type": "error",
     "traceback": [
      "\u001b[0;31m---------------------------------------------------------------------------\u001b[0m",
      "\u001b[0;31mModuleNotFoundError\u001b[0m                       Traceback (most recent call last)",
      "\u001b[0;32m<ipython-input-2-5a9475aab315>\u001b[0m in \u001b[0;36m<module>\u001b[0;34m\u001b[0m\n\u001b[1;32m      1\u001b[0m \u001b[0;32mimport\u001b[0m \u001b[0munittest\u001b[0m\u001b[0;34m\u001b[0m\u001b[0;34m\u001b[0m\u001b[0m\n\u001b[1;32m      2\u001b[0m \u001b[0;34m\u001b[0m\u001b[0m\n\u001b[0;32m----> 3\u001b[0;31m \u001b[0;32mfrom\u001b[0m \u001b[0mCRUD\u001b[0m\u001b[0;34m.\u001b[0m\u001b[0mpy\u001b[0m \u001b[0;32mimport\u001b[0m \u001b[0mAnimalShelter\u001b[0m\u001b[0;34m\u001b[0m\u001b[0;34m\u001b[0m\u001b[0m\n\u001b[0m\u001b[1;32m      4\u001b[0m \u001b[0;34m\u001b[0m\u001b[0m\n\u001b[1;32m      5\u001b[0m \u001b[0;32mclass\u001b[0m \u001b[0mTestCR\u001b[0m\u001b[0;34m(\u001b[0m\u001b[0munittest\u001b[0m\u001b[0;34m.\u001b[0m\u001b[0mTestCase\u001b[0m\u001b[0;34m)\u001b[0m\u001b[0;34m:\u001b[0m\u001b[0;34m\u001b[0m\u001b[0;34m\u001b[0m\u001b[0m\n",
      "\u001b[0;31mModuleNotFoundError\u001b[0m: No module named 'CRUD.py'; 'CRUD' is not a package"
     ]
    }
   ],
   "source": [
    "import unittest\n",
    "\n",
    "from CRUD.py import AnimalShelter\n",
    "\n",
    "class TestCR(unittest.TestCase):\n",
    "    def test_create(self):\n",
    "        data =  {\"age_upon_outcome\" : \"3 years\", \n",
    "                \"animal_id\" : \"XY3028\", \n",
    "                \"animal_type\" : \"Dog\", \n",
    "                \"breed\" : \"Akita\", \n",
    "                \"color\" : \"Gray\", \n",
    "                \"date_of_birth\" : \"Aug 2018\", \n",
    "                \"datetime\" : Date(),\n",
    "                \"name\" : \"Wren\", \n",
    "                \"outcome_subtype\" : \"\",\n",
    "                \"outcome_type\" : \"\",\n",
    "                \"sex_upon_outcome\" : \"Spayed Female\",\n",
    "                 \"age_upon_outcome_in_weeks\" : \"164 weeks\"\n",
    "                 }\n",
    "        result = create(data)\n",
    "        self.assertTrue(result)\n",
    "        \n",
    "    def test_read(self):\n",
    "        data = {\"animal_id\" : \"XY3028\"}\n",
    "        match = {\"age_upon_outcome\" : \"3 years\", \n",
    "                \"animal_id\" : \"XY3028\", \n",
    "                \"animal_type\" : \"Dog\", \n",
    "                \"breed\" : \"Akita\", \n",
    "                \"color\" : \"Gray\", \n",
    "                \"date_of_birth\" : \"Aug 2018\", \n",
    "                \"name\" : \"Wren\", \n",
    "                \"outcome_subtype\" : \"\",\n",
    "                \"outcome_type\" : \"\",\n",
    "                \"sex_upon_outcome\" : \"Spayed Female\",\n",
    "                 \"age_upon_outcome_in_weeks\" : \"164 weeks\"\n",
    "                 }\n",
    "        result = read(data)\n",
    "        self.assertEqual(result, match)\n",
    "        \n",
    "    def test_update(self):\n",
    "        data = {\"animal_id\" : \"XY3028\"}\n",
    "        newData = {\"color\" : \"Black\"}\n",
    "        result = update(data, newData)\n",
    "        self.assertTrue(result)\n",
    "        \n",
    "    def test_delete(self):\n",
    "        data = {\"animal_id\" : \"XY3028\"}\n",
    "        result = delete(data)\n",
    "        self.assertTrue(result)\n",
    "        \n",
    "        \n",
    "if __name__ == '__main__':\n",
    "    unittest.main()"
   ]
  },
  {
   "cell_type": "code",
   "execution_count": null,
   "metadata": {},
   "outputs": [],
   "source": []
  }
 ],
 "metadata": {
  "kernelspec": {
   "display_name": "Python 3",
   "language": "python",
   "name": "python3"
  },
  "language_info": {
   "codemirror_mode": {
    "name": "ipython",
    "version": 3
   },
   "file_extension": ".py",
   "mimetype": "text/x-python",
   "name": "python",
   "nbconvert_exporter": "python",
   "pygments_lexer": "ipython3",
   "version": "3.6.9"
  }
 },
 "nbformat": 4,
 "nbformat_minor": 2
}
